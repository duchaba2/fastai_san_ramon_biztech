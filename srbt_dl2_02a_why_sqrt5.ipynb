{
  "nbformat": 4,
  "nbformat_minor": 0,
  "metadata": {
    "kernelspec": {
      "name": "python3",
      "display_name": "Python 3"
    },
    "colab": {
      "name": "srbt_dl2_02a_why_sqrt5.ipynb",
      "version": "0.3.2",
      "provenance": [],
      "include_colab_link": true
    },
    "accelerator": "GPU"
  },
  "cells": [
    {
      "cell_type": "markdown",
      "metadata": {
        "id": "view-in-github",
        "colab_type": "text"
      },
      "source": [
        "<a href=\"https://colab.research.google.com/github/duchaba2/fastai_san_ramon_biztech/blob/master/srbt_dl2_02a_why_sqrt5.ipynb\" target=\"_parent\"><img src=\"https://colab.research.google.com/assets/colab-badge.svg\" alt=\"Open In Colab\"/></a>"
      ]
    },
    {
      "cell_type": "markdown",
      "metadata": {
        "id": "oYVDBlL9Z-jf",
        "colab_type": "text"
      },
      "source": [
        "# 1. Setup (Required)"
      ]
    },
    {
      "cell_type": "code",
      "metadata": {
        "id": "UImWYEGiaFUS",
        "colab_type": "code",
        "colab": {}
      },
      "source": [
        "# do the magic Jupyter commands to make display and import easier to manage.\n",
        "%reload_ext autoreload\n",
        "%autoreload 2\n",
        "%matplotlib inline"
      ],
      "execution_count": 0,
      "outputs": []
    },
    {
      "cell_type": "code",
      "metadata": {
        "id": "HVSafYWkaFZk",
        "colab_type": "code",
        "colab": {}
      },
      "source": [
        "#import pytorch and AI\n",
        "!pip install --upgrade git+https://github.com/fastai/fastai.git"
      ],
      "execution_count": 0,
      "outputs": []
    },
    {
      "cell_type": "code",
      "metadata": {
        "id": "YFH6hRu5aGNV",
        "colab_type": "code",
        "colab": {}
      },
      "source": [
        "# connect to your google drive\n",
        "from google.colab import drive\n",
        "drive.mount('/content/drive')"
      ],
      "execution_count": 0,
      "outputs": []
    },
    {
      "cell_type": "code",
      "metadata": {
        "id": "BitZ8_W5aGdk",
        "colab_type": "code",
        "colab": {}
      },
      "source": [
        "#(Optional) double check your import pytorch and fast.ai version\n",
        "import fastai\n",
        "import fastai.utils\n",
        "fastai.utils.show_install()"
      ],
      "execution_count": 0,
      "outputs": []
    },
    {
      "cell_type": "markdown",
      "metadata": {
        "id": "jCF0Cotstqrq",
        "colab_type": "text"
      },
      "source": [
        "#2. Fastai Notebook, Does nn.Conv2d init work well?"
      ]
    },
    {
      "cell_type": "markdown",
      "metadata": {
        "id": "74TtxSo8tqrr",
        "colab_type": "text"
      },
      "source": [
        "[Jump_to lesson 9 video](https://course.fast.ai/videos/?lesson=9&t=21)"
      ]
    },
    {
      "cell_type": "code",
      "metadata": {
        "id": "TTeR4z2rtqrs",
        "colab_type": "code",
        "colab": {}
      },
      "source": [
        "#export\n",
        "from exp.nb_02 import *\n",
        "\n",
        "def get_data():\n",
        "    path = datasets.download_data(MNIST_URL, ext='.gz')\n",
        "    with gzip.open(path, 'rb') as f:\n",
        "        ((x_train, y_train), (x_valid, y_valid), _) = pickle.load(f, encoding='latin-1')\n",
        "    return map(tensor, (x_train,y_train,x_valid,y_valid))\n",
        "\n",
        "def normalize(x, m, s): return (x-m)/s"
      ],
      "execution_count": 0,
      "outputs": []
    },
    {
      "cell_type": "code",
      "metadata": {
        "id": "kxLq8f2ctqrv",
        "colab_type": "code",
        "colab": {}
      },
      "source": [
        "torch.nn.modules.conv._ConvNd.reset_parameters??"
      ],
      "execution_count": 0,
      "outputs": []
    },
    {
      "cell_type": "code",
      "metadata": {
        "id": "yCxV2CUUtqry",
        "colab_type": "code",
        "colab": {}
      },
      "source": [
        "x_train,y_train,x_valid,y_valid = get_data()\n",
        "train_mean,train_std = x_train.mean(),x_train.std()\n",
        "x_train = normalize(x_train, train_mean, train_std)\n",
        "x_valid = normalize(x_valid, train_mean, train_std)"
      ],
      "execution_count": 0,
      "outputs": []
    },
    {
      "cell_type": "code",
      "metadata": {
        "id": "j7ke5Ebatqr1",
        "colab_type": "code",
        "outputId": "d91928ae-94b6-429a-a033-434a012ea23f",
        "colab": {}
      },
      "source": [
        "x_train = x_train.view(-1,1,28,28)\n",
        "x_valid = x_valid.view(-1,1,28,28)\n",
        "x_train.shape,x_valid.shape"
      ],
      "execution_count": 0,
      "outputs": [
        {
          "output_type": "execute_result",
          "data": {
            "text/plain": [
              "(torch.Size([50000, 1, 28, 28]), torch.Size([10000, 1, 28, 28]))"
            ]
          },
          "metadata": {
            "tags": []
          },
          "execution_count": 0
        }
      ]
    },
    {
      "cell_type": "code",
      "metadata": {
        "id": "6YVkj4Ektqr7",
        "colab_type": "code",
        "outputId": "62487839-dd32-4331-c7b2-3651c3b6d0f8",
        "colab": {}
      },
      "source": [
        "n,*_ = x_train.shape\n",
        "c = y_train.max()+1\n",
        "nh = 32\n",
        "n,c"
      ],
      "execution_count": 0,
      "outputs": [
        {
          "output_type": "execute_result",
          "data": {
            "text/plain": [
              "(50000, tensor(10))"
            ]
          },
          "metadata": {
            "tags": []
          },
          "execution_count": 0
        }
      ]
    },
    {
      "cell_type": "code",
      "metadata": {
        "id": "tX3Va7bKtqr_",
        "colab_type": "code",
        "colab": {}
      },
      "source": [
        "l1 = nn.Conv2d(1, nh, 5)"
      ],
      "execution_count": 0,
      "outputs": []
    },
    {
      "cell_type": "code",
      "metadata": {
        "id": "GDXMMP_dtqsC",
        "colab_type": "code",
        "colab": {}
      },
      "source": [
        "x = x_valid[:100]"
      ],
      "execution_count": 0,
      "outputs": []
    },
    {
      "cell_type": "code",
      "metadata": {
        "id": "7znKcxFatqsE",
        "colab_type": "code",
        "outputId": "690a8847-a810-419c-c8fc-7e9355d99d9d",
        "colab": {}
      },
      "source": [
        "x.shape"
      ],
      "execution_count": 0,
      "outputs": [
        {
          "output_type": "execute_result",
          "data": {
            "text/plain": [
              "torch.Size([100, 1, 28, 28])"
            ]
          },
          "metadata": {
            "tags": []
          },
          "execution_count": 0
        }
      ]
    },
    {
      "cell_type": "code",
      "metadata": {
        "id": "FmFMdmlZtqsM",
        "colab_type": "code",
        "colab": {}
      },
      "source": [
        "def stats(x): return x.mean(),x.std()"
      ],
      "execution_count": 0,
      "outputs": []
    },
    {
      "cell_type": "code",
      "metadata": {
        "id": "J76CY_29tqsP",
        "colab_type": "code",
        "outputId": "71f11bbe-1bb8-48b0-9e75-8bb71ec0c7fb",
        "colab": {}
      },
      "source": [
        "l1.weight.shape"
      ],
      "execution_count": 0,
      "outputs": [
        {
          "output_type": "execute_result",
          "data": {
            "text/plain": [
              "torch.Size([32, 1, 5, 5])"
            ]
          },
          "metadata": {
            "tags": []
          },
          "execution_count": 0
        }
      ]
    },
    {
      "cell_type": "code",
      "metadata": {
        "id": "4H4_GffAtqsS",
        "colab_type": "code",
        "outputId": "ab8e8ddd-c240-49a1-9eb9-ab56dee59db1",
        "colab": {}
      },
      "source": [
        "stats(l1.weight),stats(l1.bias)"
      ],
      "execution_count": 0,
      "outputs": [
        {
          "output_type": "execute_result",
          "data": {
            "text/plain": [
              "((tensor(-0.0043, grad_fn=<MeanBackward1>),\n",
              "  tensor(0.1156, grad_fn=<StdBackward0>)),\n",
              " (tensor(0.0212, grad_fn=<MeanBackward1>),\n",
              "  tensor(0.1176, grad_fn=<StdBackward0>)))"
            ]
          },
          "metadata": {
            "tags": []
          },
          "execution_count": 0
        }
      ]
    },
    {
      "cell_type": "code",
      "metadata": {
        "id": "BOB5-knPtqsY",
        "colab_type": "code",
        "colab": {}
      },
      "source": [
        "t = l1(x)"
      ],
      "execution_count": 0,
      "outputs": []
    },
    {
      "cell_type": "code",
      "metadata": {
        "id": "3YjfN2B6tqsb",
        "colab_type": "code",
        "outputId": "c50b8094-cbfc-40bd-b059-6dd1b584afba",
        "colab": {}
      },
      "source": [
        "stats(t)"
      ],
      "execution_count": 0,
      "outputs": [
        {
          "output_type": "execute_result",
          "data": {
            "text/plain": [
              "(tensor(0.0107, grad_fn=<MeanBackward1>),\n",
              " tensor(0.5978, grad_fn=<StdBackward0>))"
            ]
          },
          "metadata": {
            "tags": []
          },
          "execution_count": 0
        }
      ]
    },
    {
      "cell_type": "code",
      "metadata": {
        "id": "KeKzBv4Vtqse",
        "colab_type": "code",
        "outputId": "7cb29f25-b9f6-4b17-a715-970da8002c62",
        "colab": {}
      },
      "source": [
        "init.kaiming_normal_(l1.weight, a=1.)\n",
        "stats(l1(x))"
      ],
      "execution_count": 0,
      "outputs": [
        {
          "output_type": "execute_result",
          "data": {
            "text/plain": [
              "(tensor(0.0267, grad_fn=<MeanBackward1>),\n",
              " tensor(1.1067, grad_fn=<StdBackward0>))"
            ]
          },
          "metadata": {
            "tags": []
          },
          "execution_count": 0
        }
      ]
    },
    {
      "cell_type": "code",
      "metadata": {
        "id": "ey4KL2mStqsj",
        "colab_type": "code",
        "colab": {}
      },
      "source": [
        "import torch.nn.functional as F"
      ],
      "execution_count": 0,
      "outputs": []
    },
    {
      "cell_type": "code",
      "metadata": {
        "id": "l1-mtc7Etqsn",
        "colab_type": "code",
        "colab": {}
      },
      "source": [
        "def f1(x,a=0): return F.leaky_relu(l1(x),a)"
      ],
      "execution_count": 0,
      "outputs": []
    },
    {
      "cell_type": "code",
      "metadata": {
        "id": "oNnkZ0_qtqsr",
        "colab_type": "code",
        "outputId": "e7954749-f2e0-47f8-e317-45daecc48645",
        "colab": {}
      },
      "source": [
        "init.kaiming_normal_(l1.weight, a=0)\n",
        "stats(f1(x))"
      ],
      "execution_count": 0,
      "outputs": [
        {
          "output_type": "execute_result",
          "data": {
            "text/plain": [
              "(tensor(0.5547, grad_fn=<MeanBackward1>),\n",
              " tensor(1.0199, grad_fn=<StdBackward0>))"
            ]
          },
          "metadata": {
            "tags": []
          },
          "execution_count": 0
        }
      ]
    },
    {
      "cell_type": "code",
      "metadata": {
        "id": "e8Usw6F_tqs1",
        "colab_type": "code",
        "outputId": "6faa003a-364e-4c3d-9551-fe9960fb5044",
        "colab": {}
      },
      "source": [
        "l1 = nn.Conv2d(1, nh, 5)\n",
        "stats(f1(x))"
      ],
      "execution_count": 0,
      "outputs": [
        {
          "output_type": "execute_result",
          "data": {
            "text/plain": [
              "(tensor(0.2219, grad_fn=<MeanBackward1>),\n",
              " tensor(0.3653, grad_fn=<StdBackward0>))"
            ]
          },
          "metadata": {
            "tags": []
          },
          "execution_count": 0
        }
      ]
    },
    {
      "cell_type": "code",
      "metadata": {
        "id": "BFCjPUWEtqs7",
        "colab_type": "code",
        "outputId": "120d4d83-4033-4a3d-d794-71de07255bb1",
        "colab": {}
      },
      "source": [
        "l1.weight.shape"
      ],
      "execution_count": 0,
      "outputs": [
        {
          "output_type": "execute_result",
          "data": {
            "text/plain": [
              "torch.Size([32, 1, 5, 5])"
            ]
          },
          "metadata": {
            "tags": []
          },
          "execution_count": 0
        }
      ]
    },
    {
      "cell_type": "code",
      "metadata": {
        "id": "o35HB-rVtqtB",
        "colab_type": "code",
        "outputId": "1cd5c944-df9e-4e48-fedb-89ba22931a9d",
        "colab": {}
      },
      "source": [
        "# receptive field size\n",
        "rec_fs = l1.weight[0,0].numel()\n",
        "rec_fs"
      ],
      "execution_count": 0,
      "outputs": [
        {
          "output_type": "execute_result",
          "data": {
            "text/plain": [
              "25"
            ]
          },
          "metadata": {
            "tags": []
          },
          "execution_count": 0
        }
      ]
    },
    {
      "cell_type": "code",
      "metadata": {
        "id": "rl2ssNtStqtE",
        "colab_type": "code",
        "outputId": "152146cd-ade4-4a2c-a1b1-1e930990edb6",
        "colab": {}
      },
      "source": [
        "nf,ni,*_ = l1.weight.shape\n",
        "nf,ni"
      ],
      "execution_count": 0,
      "outputs": [
        {
          "output_type": "execute_result",
          "data": {
            "text/plain": [
              "(32, 1)"
            ]
          },
          "metadata": {
            "tags": []
          },
          "execution_count": 0
        }
      ]
    },
    {
      "cell_type": "code",
      "metadata": {
        "id": "DkbvY7LitqtI",
        "colab_type": "code",
        "outputId": "6cfcc672-7dc5-4fe4-9e95-6880d49ff5ef",
        "colab": {}
      },
      "source": [
        "fan_in  = ni*rec_fs\n",
        "fan_out = nf*rec_fs\n",
        "fan_in,fan_out"
      ],
      "execution_count": 0,
      "outputs": [
        {
          "output_type": "execute_result",
          "data": {
            "text/plain": [
              "(25, 800)"
            ]
          },
          "metadata": {
            "tags": []
          },
          "execution_count": 0
        }
      ]
    },
    {
      "cell_type": "code",
      "metadata": {
        "id": "7X7aBFbItqtN",
        "colab_type": "code",
        "colab": {}
      },
      "source": [
        "def gain(a): return math.sqrt(2.0 / (1 + a**2))"
      ],
      "execution_count": 0,
      "outputs": []
    },
    {
      "cell_type": "code",
      "metadata": {
        "id": "uw_RbHT7tqtP",
        "colab_type": "code",
        "outputId": "da6c5b31-77a9-4663-f417-da4ec278a0fe",
        "colab": {}
      },
      "source": [
        "gain(1),gain(0),gain(0.01),gain(0.1),gain(math.sqrt(5.))"
      ],
      "execution_count": 0,
      "outputs": [
        {
          "output_type": "execute_result",
          "data": {
            "text/plain": [
              "(1.0,\n",
              " 1.4142135623730951,\n",
              " 1.4141428569978354,\n",
              " 1.4071950894605838,\n",
              " 0.5773502691896257)"
            ]
          },
          "metadata": {
            "tags": []
          },
          "execution_count": 0
        }
      ]
    },
    {
      "cell_type": "code",
      "metadata": {
        "id": "6MB-hJMItqtS",
        "colab_type": "code",
        "outputId": "c72ee226-8d90-4221-f0c7-14be36d89b92",
        "colab": {}
      },
      "source": [
        "torch.zeros(10000).uniform_(-1,1).std()"
      ],
      "execution_count": 0,
      "outputs": [
        {
          "output_type": "execute_result",
          "data": {
            "text/plain": [
              "tensor(0.5788)"
            ]
          },
          "metadata": {
            "tags": []
          },
          "execution_count": 0
        }
      ]
    },
    {
      "cell_type": "code",
      "metadata": {
        "id": "AWa9hhK1tqtV",
        "colab_type": "code",
        "outputId": "9b27d3d8-d7cf-4b76-fb09-35416883c3a7",
        "colab": {}
      },
      "source": [
        "1/math.sqrt(3.)"
      ],
      "execution_count": 0,
      "outputs": [
        {
          "output_type": "execute_result",
          "data": {
            "text/plain": [
              "0.5773502691896258"
            ]
          },
          "metadata": {
            "tags": []
          },
          "execution_count": 0
        }
      ]
    },
    {
      "cell_type": "code",
      "metadata": {
        "id": "4mP7H4JFtqtY",
        "colab_type": "code",
        "colab": {}
      },
      "source": [
        "def kaiming2(x,a, use_fan_out=False):\n",
        "    nf,ni,*_ = x.shape\n",
        "    rec_fs = x[0,0].shape.numel()\n",
        "    fan = nf*rec_fs if use_fan_out else ni*rec_fs\n",
        "    std = gain(a) / math.sqrt(fan)\n",
        "    bound = math.sqrt(3.) * std\n",
        "    x.data.uniform_(-bound,bound)"
      ],
      "execution_count": 0,
      "outputs": []
    },
    {
      "cell_type": "code",
      "metadata": {
        "id": "tUbRP26Ntqtc",
        "colab_type": "code",
        "outputId": "56bbcac1-ba84-4452-c859-a10f0e784297",
        "colab": {}
      },
      "source": [
        "kaiming2(l1.weight, a=0);\n",
        "stats(f1(x))"
      ],
      "execution_count": 0,
      "outputs": [
        {
          "output_type": "execute_result",
          "data": {
            "text/plain": [
              "(tensor(0.5603, grad_fn=<MeanBackward1>),\n",
              " tensor(1.0921, grad_fn=<StdBackward0>))"
            ]
          },
          "metadata": {
            "tags": []
          },
          "execution_count": 0
        }
      ]
    },
    {
      "cell_type": "code",
      "metadata": {
        "id": "GIsVV9yQtqtg",
        "colab_type": "code",
        "outputId": "326ac762-b0f5-41f8-eeed-4de6345dd986",
        "colab": {}
      },
      "source": [
        "kaiming2(l1.weight, a=math.sqrt(5.))\n",
        "stats(f1(x))"
      ],
      "execution_count": 0,
      "outputs": [
        {
          "output_type": "execute_result",
          "data": {
            "text/plain": [
              "(tensor(0.2186, grad_fn=<MeanBackward1>),\n",
              " tensor(0.3437, grad_fn=<StdBackward0>))"
            ]
          },
          "metadata": {
            "tags": []
          },
          "execution_count": 0
        }
      ]
    },
    {
      "cell_type": "code",
      "metadata": {
        "id": "B3J3KeR4tqti",
        "colab_type": "code",
        "colab": {}
      },
      "source": [
        "class Flatten(nn.Module):\n",
        "    def forward(self,x): return x.view(-1)"
      ],
      "execution_count": 0,
      "outputs": []
    },
    {
      "cell_type": "code",
      "metadata": {
        "id": "ZQ2NTj5vtqtl",
        "colab_type": "code",
        "colab": {}
      },
      "source": [
        "m = nn.Sequential(\n",
        "    nn.Conv2d(1,8, 5,stride=2,padding=2), nn.ReLU(),\n",
        "    nn.Conv2d(8,16,3,stride=2,padding=1), nn.ReLU(),\n",
        "    nn.Conv2d(16,32,3,stride=2,padding=1), nn.ReLU(),\n",
        "    nn.Conv2d(32,1,3,stride=2,padding=1),\n",
        "    nn.AdaptiveAvgPool2d(1),\n",
        "    Flatten(),\n",
        ")"
      ],
      "execution_count": 0,
      "outputs": []
    },
    {
      "cell_type": "code",
      "metadata": {
        "id": "i-37pZM0tqtn",
        "colab_type": "code",
        "colab": {}
      },
      "source": [
        "y = y_valid[:100].float()"
      ],
      "execution_count": 0,
      "outputs": []
    },
    {
      "cell_type": "code",
      "metadata": {
        "id": "6zG4YM_Mtqtq",
        "colab_type": "code",
        "outputId": "879300c3-b517-4ba9-c74f-24f4ca9b8b96",
        "colab": {}
      },
      "source": [
        "t = m(x)\n",
        "stats(t)"
      ],
      "execution_count": 0,
      "outputs": [
        {
          "output_type": "execute_result",
          "data": {
            "text/plain": [
              "(tensor(0.0875, grad_fn=<MeanBackward1>),\n",
              " tensor(0.0065, grad_fn=<StdBackward0>))"
            ]
          },
          "metadata": {
            "tags": []
          },
          "execution_count": 0
        }
      ]
    },
    {
      "cell_type": "code",
      "metadata": {
        "id": "qpOxknTatqtw",
        "colab_type": "code",
        "colab": {}
      },
      "source": [
        "l = mse(t,y)\n",
        "l.backward()"
      ],
      "execution_count": 0,
      "outputs": []
    },
    {
      "cell_type": "code",
      "metadata": {
        "id": "SU_0xfsltqty",
        "colab_type": "code",
        "outputId": "179495b8-5c0f-430f-a45c-fed96345c9e5",
        "colab": {}
      },
      "source": [
        "stats(m[0].weight.grad)"
      ],
      "execution_count": 0,
      "outputs": [
        {
          "output_type": "execute_result",
          "data": {
            "text/plain": [
              "(tensor(0.0054), tensor(0.0333))"
            ]
          },
          "metadata": {
            "tags": []
          },
          "execution_count": 0
        }
      ]
    },
    {
      "cell_type": "code",
      "metadata": {
        "id": "k1F0LGXNtqt1",
        "colab_type": "code",
        "colab": {}
      },
      "source": [
        "init.kaiming_uniform_??"
      ],
      "execution_count": 0,
      "outputs": []
    },
    {
      "cell_type": "code",
      "metadata": {
        "id": "OueEIHRhtqt3",
        "colab_type": "code",
        "colab": {}
      },
      "source": [
        "for l in m:\n",
        "    if isinstance(l,nn.Conv2d):\n",
        "        init.kaiming_uniform_(l.weight)\n",
        "        l.bias.data.zero_()"
      ],
      "execution_count": 0,
      "outputs": []
    },
    {
      "cell_type": "code",
      "metadata": {
        "id": "zO9NWdq3tqt5",
        "colab_type": "code",
        "outputId": "ba827e36-a676-4905-cae8-f39361d44689",
        "colab": {}
      },
      "source": [
        "t = m(x)\n",
        "stats(t)"
      ],
      "execution_count": 0,
      "outputs": [
        {
          "output_type": "execute_result",
          "data": {
            "text/plain": [
              "(tensor(-0.0352, grad_fn=<MeanBackward1>),\n",
              " tensor(0.4043, grad_fn=<StdBackward0>))"
            ]
          },
          "metadata": {
            "tags": []
          },
          "execution_count": 0
        }
      ]
    },
    {
      "cell_type": "code",
      "metadata": {
        "id": "BJtcv_X1tqt_",
        "colab_type": "code",
        "outputId": "7bfaea9d-004b-4826-9edf-1a0697d643ab",
        "colab": {}
      },
      "source": [
        "l = mse(t,y)\n",
        "l.backward()\n",
        "stats(m[0].weight.grad)"
      ],
      "execution_count": 0,
      "outputs": [
        {
          "output_type": "execute_result",
          "data": {
            "text/plain": [
              "(tensor(0.0093), tensor(0.4231))"
            ]
          },
          "metadata": {
            "tags": []
          },
          "execution_count": 0
        }
      ]
    },
    {
      "cell_type": "markdown",
      "metadata": {
        "id": "ojVSAxeFtquE",
        "colab_type": "text"
      },
      "source": [
        "## Export"
      ]
    },
    {
      "cell_type": "code",
      "metadata": {
        "id": "qVch-H9htquG",
        "colab_type": "code",
        "colab": {}
      },
      "source": [
        "!./notebook2script.py 02a_why_sqrt5.ipynb"
      ],
      "execution_count": 0,
      "outputs": []
    },
    {
      "cell_type": "code",
      "metadata": {
        "id": "ww-Tjyl3tquQ",
        "colab_type": "code",
        "colab": {}
      },
      "source": [
        ""
      ],
      "execution_count": 0,
      "outputs": []
    }
  ]
}