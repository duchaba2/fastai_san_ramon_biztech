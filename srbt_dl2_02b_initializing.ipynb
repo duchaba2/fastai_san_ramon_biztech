{
  "nbformat": 4,
  "nbformat_minor": 0,
  "metadata": {
    "kernelspec": {
      "name": "python3",
      "display_name": "Python 3"
    },
    "colab": {
      "name": "srbt_dl2_02b_initializing.ipynb",
      "version": "0.3.2",
      "provenance": [],
      "collapsed_sections": [],
      "include_colab_link": true
    },
    "accelerator": "GPU"
  },
  "cells": [
    {
      "cell_type": "markdown",
      "metadata": {
        "id": "view-in-github",
        "colab_type": "text"
      },
      "source": [
        "<a href=\"https://colab.research.google.com/github/duchaba2/fastai_san_ramon_biztech/blob/master/srbt_dl2_02b_initializing.ipynb\" target=\"_parent\"><img src=\"https://colab.research.google.com/assets/colab-badge.svg\" alt=\"Open In Colab\"/></a>"
      ]
    },
    {
      "cell_type": "markdown",
      "metadata": {
        "id": "oYVDBlL9Z-jf",
        "colab_type": "text"
      },
      "source": [
        "# 1. Setup (Required)"
      ]
    },
    {
      "cell_type": "code",
      "metadata": {
        "id": "UImWYEGiaFUS",
        "colab_type": "code",
        "colab": {}
      },
      "source": [
        "# do the magic Jupyter commands to make display and import easier to manage.\n",
        "%reload_ext autoreload\n",
        "%autoreload 2\n",
        "%matplotlib inline"
      ],
      "execution_count": 0,
      "outputs": []
    },
    {
      "cell_type": "code",
      "metadata": {
        "id": "HVSafYWkaFZk",
        "colab_type": "code",
        "colab": {}
      },
      "source": [
        "#import pytorch and AI\n",
        "!pip install --upgrade git+https://github.com/fastai/fastai.git"
      ],
      "execution_count": 0,
      "outputs": []
    },
    {
      "cell_type": "code",
      "metadata": {
        "id": "YFH6hRu5aGNV",
        "colab_type": "code",
        "colab": {}
      },
      "source": [
        "# connect to your google drive\n",
        "from google.colab import drive\n",
        "drive.mount('/content/drive')"
      ],
      "execution_count": 0,
      "outputs": []
    },
    {
      "cell_type": "code",
      "metadata": {
        "id": "BitZ8_W5aGdk",
        "colab_type": "code",
        "colab": {}
      },
      "source": [
        "#(Optional) double check your import pytorch and fast.ai version\n",
        "import fastai\n",
        "import fastai.utils\n",
        "fastai.utils.show_install()"
      ],
      "execution_count": 0,
      "outputs": []
    },
    {
      "cell_type": "markdown",
      "metadata": {
        "id": "_JYyErwxuxH1",
        "colab_type": "text"
      },
      "source": [
        "#2. FastAI Notebook"
      ]
    },
    {
      "cell_type": "code",
      "metadata": {
        "id": "6HbixC1Vucgh",
        "colab_type": "code",
        "colab": {}
      },
      "source": [
        "import torch"
      ],
      "execution_count": 0,
      "outputs": []
    },
    {
      "cell_type": "markdown",
      "metadata": {
        "id": "92EkK7K8ucgm",
        "colab_type": "text"
      },
      "source": [
        "### Why you need a good init"
      ]
    },
    {
      "cell_type": "markdown",
      "metadata": {
        "id": "kZQF9Njcucgo",
        "colab_type": "text"
      },
      "source": [
        "To understand why initialization is important in a neural net, we'll focus on the basic operation you have there: matrix multiplications. So let's just take a vector `x`, and a matrix `a` initiliazed randomly, then multiply them 100 times (as if we had 100 layers). "
      ]
    },
    {
      "cell_type": "markdown",
      "metadata": {
        "id": "XPhJ93Itucgq",
        "colab_type": "text"
      },
      "source": [
        "[Jump_to lesson 9 video](https://course.fast.ai/videos/?lesson=9&t=1132)"
      ]
    },
    {
      "cell_type": "code",
      "metadata": {
        "id": "dmcATLdvucgr",
        "colab_type": "code",
        "colab": {}
      },
      "source": [
        "x = torch.randn(512)\n",
        "a = torch.randn(512,512)"
      ],
      "execution_count": 0,
      "outputs": []
    },
    {
      "cell_type": "code",
      "metadata": {
        "id": "vn5_THP8ucgx",
        "colab_type": "code",
        "colab": {}
      },
      "source": [
        "for i in range(100): x = a @ x"
      ],
      "execution_count": 0,
      "outputs": []
    },
    {
      "cell_type": "code",
      "metadata": {
        "id": "RWo8IUtIucg0",
        "colab_type": "code",
        "outputId": "338ab1ae-a414-48f3-fd98-a56166ba62e2",
        "colab": {}
      },
      "source": [
        "x.mean(),x.std()"
      ],
      "execution_count": 0,
      "outputs": [
        {
          "output_type": "execute_result",
          "data": {
            "text/plain": [
              "(tensor(nan), tensor(nan))"
            ]
          },
          "metadata": {
            "tags": []
          },
          "execution_count": 0
        }
      ]
    },
    {
      "cell_type": "markdown",
      "metadata": {
        "id": "kfHDkDJvucg4",
        "colab_type": "text"
      },
      "source": [
        "The problem you'll get with that is activation explosion: very soon, your activations will go to nan. We can even ask the loop to break when that first happens:"
      ]
    },
    {
      "cell_type": "code",
      "metadata": {
        "id": "sbctebBiucg5",
        "colab_type": "code",
        "colab": {}
      },
      "source": [
        "x = torch.randn(512)\n",
        "a = torch.randn(512,512)"
      ],
      "execution_count": 0,
      "outputs": []
    },
    {
      "cell_type": "code",
      "metadata": {
        "id": "mLal9RV8ucg8",
        "colab_type": "code",
        "colab": {}
      },
      "source": [
        "for i in range(100): \n",
        "    x = a @ x\n",
        "    if x.std() != x.std(): break"
      ],
      "execution_count": 0,
      "outputs": []
    },
    {
      "cell_type": "code",
      "metadata": {
        "id": "yCc7_Q2Aucg_",
        "colab_type": "code",
        "outputId": "cd48e1e8-007f-4f2b-cc2f-fa9f4bb34e98",
        "colab": {}
      },
      "source": [
        "i"
      ],
      "execution_count": 0,
      "outputs": [
        {
          "output_type": "execute_result",
          "data": {
            "text/plain": [
              "28"
            ]
          },
          "metadata": {
            "tags": []
          },
          "execution_count": 0
        }
      ]
    },
    {
      "cell_type": "markdown",
      "metadata": {
        "id": "BEtTAbeHuchE",
        "colab_type": "text"
      },
      "source": [
        "It only takes 27 multiplications! On the other hand, if you initialize your activations with a scale that is too low, then you'll get another problem:"
      ]
    },
    {
      "cell_type": "code",
      "metadata": {
        "id": "mgIR-LgZuchF",
        "colab_type": "code",
        "colab": {}
      },
      "source": [
        "x = torch.randn(512)\n",
        "a = torch.randn(512,512) * 0.01"
      ],
      "execution_count": 0,
      "outputs": []
    },
    {
      "cell_type": "code",
      "metadata": {
        "id": "Tp4bPYMFuchI",
        "colab_type": "code",
        "colab": {}
      },
      "source": [
        "for i in range(100): x = a @ x"
      ],
      "execution_count": 0,
      "outputs": []
    },
    {
      "cell_type": "code",
      "metadata": {
        "id": "rmgwfq3SuchL",
        "colab_type": "code",
        "outputId": "b9f82f92-97e3-4385-869b-3da1ac781c01",
        "colab": {}
      },
      "source": [
        "x.mean(),x.std()"
      ],
      "execution_count": 0,
      "outputs": [
        {
          "output_type": "execute_result",
          "data": {
            "text/plain": [
              "(tensor(0.), tensor(0.))"
            ]
          },
          "metadata": {
            "tags": []
          },
          "execution_count": 0
        }
      ]
    },
    {
      "cell_type": "markdown",
      "metadata": {
        "id": "WyOcbvTCuchQ",
        "colab_type": "text"
      },
      "source": [
        "Here, every activation vanished to 0. So to avoid that problem, people have come with several strategies to initialize their weight matices, such as:\n",
        "- use a standard deviation that will make sure x and Ax have exactly the same scale\n",
        "- use an orthogonal matrix to initialize the weight (orthogonal matrices have the special property that they preserve the L2 norm, so x and Ax would have the same sum of squares in that case)\n",
        "- use [spectral normalization](https://arxiv.org/pdf/1802.05957.pdf) on the matrix A  (the spectral norm of A is the least possible number M such that `torch.norm(A@x) <= M*torch.norm(x)` so dividing A by this M insures you don't overflow. You can still vanish with this)"
      ]
    },
    {
      "cell_type": "markdown",
      "metadata": {
        "id": "ugwDgakTuchR",
        "colab_type": "text"
      },
      "source": [
        "### The magic number for scaling"
      ]
    },
    {
      "cell_type": "markdown",
      "metadata": {
        "id": "BLuRR0EluchS",
        "colab_type": "text"
      },
      "source": [
        "Here we will focus on the first one, which is the Xavier initialization. It tells us that we should use a scale equal to `1/math.sqrt(n_in)` where `n_in` is the number of inputs of our matrix."
      ]
    },
    {
      "cell_type": "markdown",
      "metadata": {
        "id": "Hkauqb1EuchT",
        "colab_type": "text"
      },
      "source": [
        "[Jump_to lesson 9 video](https://course.fast.ai/videos/?lesson=9&t=1273)"
      ]
    },
    {
      "cell_type": "code",
      "metadata": {
        "id": "r9z6Pm4LuchU",
        "colab_type": "code",
        "colab": {}
      },
      "source": [
        "import math"
      ],
      "execution_count": 0,
      "outputs": []
    },
    {
      "cell_type": "code",
      "metadata": {
        "id": "MecmfS9zuchX",
        "colab_type": "code",
        "colab": {}
      },
      "source": [
        "x = torch.randn(512)\n",
        "a = torch.randn(512,512) / math.sqrt(512)"
      ],
      "execution_count": 0,
      "outputs": []
    },
    {
      "cell_type": "code",
      "metadata": {
        "id": "Mwa8mLZTucha",
        "colab_type": "code",
        "colab": {}
      },
      "source": [
        "for i in range(100): x = a @ x"
      ],
      "execution_count": 0,
      "outputs": []
    },
    {
      "cell_type": "code",
      "metadata": {
        "id": "Izzbbb6guchd",
        "colab_type": "code",
        "outputId": "4a8fbc22-5d3f-42a1-ce8a-45cf112dbc79",
        "colab": {}
      },
      "source": [
        "x.mean(),x.std()"
      ],
      "execution_count": 0,
      "outputs": [
        {
          "output_type": "execute_result",
          "data": {
            "text/plain": [
              "(tensor(-0.0171), tensor(0.9270))"
            ]
          },
          "metadata": {
            "tags": []
          },
          "execution_count": 0
        }
      ]
    },
    {
      "cell_type": "markdown",
      "metadata": {
        "id": "_B97j6nluchh",
        "colab_type": "text"
      },
      "source": [
        "And indeed it works. Note that this magic number isn't very far from the 0.01 we had earlier."
      ]
    },
    {
      "cell_type": "code",
      "metadata": {
        "id": "xFElFNBJuchi",
        "colab_type": "code",
        "outputId": "480d3e47-3d26-4d7b-fc84-68747d5b10d1",
        "colab": {}
      },
      "source": [
        "1/ math.sqrt(512)"
      ],
      "execution_count": 0,
      "outputs": [
        {
          "output_type": "execute_result",
          "data": {
            "text/plain": [
              "0.044194173824159216"
            ]
          },
          "metadata": {
            "tags": []
          },
          "execution_count": 0
        }
      ]
    },
    {
      "cell_type": "markdown",
      "metadata": {
        "id": "l5UQC9lduchn",
        "colab_type": "text"
      },
      "source": [
        "But where does it come from? It's not that mysterious if you remember the definition of the matrix multiplication. When we do `y = a @ x`, the coefficients of `y` are defined by\n",
        "\n",
        "$$y_{i} = a_{i,0} x_{0} + a_{i,1} x_{1} + \\cdots + a_{i,n-1} x_{n-1} = \\sum_{k=0}^{n-1} a_{i,k} x_{k}$$\n",
        "\n",
        "or in code:\n",
        "```\n",
        "y[i] = sum([c*d for c,d in zip(a[i], x)])\n",
        "```\n",
        "\n",
        "Now at the very beginning, our `x` vector has a mean of roughly 0. and a standard deviation of roughly 1. (since we picked it that way)."
      ]
    },
    {
      "cell_type": "code",
      "metadata": {
        "id": "BFZbg53Huchp",
        "colab_type": "code",
        "outputId": "f9003c69-75f9-4648-cc5c-2db4f3107599",
        "colab": {}
      },
      "source": [
        "x = torch.randn(512)\n",
        "x.mean(), x.std()"
      ],
      "execution_count": 0,
      "outputs": [
        {
          "output_type": "execute_result",
          "data": {
            "text/plain": [
              "(tensor(0.0144), tensor(1.0207))"
            ]
          },
          "metadata": {
            "tags": []
          },
          "execution_count": 0
        }
      ]
    },
    {
      "cell_type": "markdown",
      "metadata": {
        "id": "efUWJqWmuchv",
        "colab_type": "text"
      },
      "source": [
        "NB: This is why it's extremely important to normalize your inputs in Deep Learning, the intialization rules have been designed with inputs that have a mean 0. and a standard deviation of 1.\n",
        "\n",
        "If you need a refresher from your statistics course, the mean is the sum of all the elements divided by the number of elements (a basic average). The standard deviation represents if the data stays close to the mean or on the contrary gets values that are far away. It's computed by the following formula:\n",
        "\n",
        "$$\\sigma = \\sqrt{\\frac{1}{n}\\left[(x_{0}-m)^{2} + (x_{1}-m)^{2} + \\cdots + (x_{n-1}-m)^{2}\\right]}$$\n",
        "\n",
        "where m is the mean and $\\sigma$ (the greek letter sigma) is the standard deviation. Here we have a mean of 0, so it's just the square root of the mean of x squared.\n",
        "\n",
        "If we go back to `y = a @ x` and assume that we chose weights for `a` that also have a mean of 0, we can compute the standard deviation of `y` quite easily. Since it's random, and we may fall on bad numbers, we repeat the operation 100 times."
      ]
    },
    {
      "cell_type": "code",
      "metadata": {
        "id": "ohIIoJ6fuchx",
        "colab_type": "code",
        "outputId": "edf840af-5366-46c6-95c9-78df5751d5cc",
        "colab": {}
      },
      "source": [
        "mean,sqr = 0.,0.\n",
        "for i in range(100):\n",
        "    x = torch.randn(512)\n",
        "    a = torch.randn(512, 512)\n",
        "    y = a @ x\n",
        "    mean += y.mean().item()\n",
        "    sqr  += y.pow(2).mean().item()\n",
        "mean/100,sqr/100"
      ],
      "execution_count": 0,
      "outputs": [
        {
          "output_type": "execute_result",
          "data": {
            "text/plain": [
              "(0.01184942677617073, 516.7942666625977)"
            ]
          },
          "metadata": {
            "tags": []
          },
          "execution_count": 0
        }
      ]
    },
    {
      "cell_type": "markdown",
      "metadata": {
        "id": "K9B5AFAwuch2",
        "colab_type": "text"
      },
      "source": [
        "Now that looks very close to the dimension of our matrix 512. And that's no coincidence! When you compute y, you sum 512 product of one element of a by one element of x. So what's the mean and the standard deviation of such a product? We can show mathematically that as long as the elements in `a` and the elements in `x` are independent, the mean is 0 and the std is 1. This can also be seen experimentally:"
      ]
    },
    {
      "cell_type": "code",
      "metadata": {
        "id": "F0k0GZDWuch2",
        "colab_type": "code",
        "outputId": "b0e1132e-70b7-4fdd-f131-d6d5a2cd3926",
        "colab": {}
      },
      "source": [
        "mean,sqr = 0.,0.\n",
        "for i in range(10000):\n",
        "    x = torch.randn(1)\n",
        "    a = torch.randn(1)\n",
        "    y = a*x\n",
        "    mean += y.item()\n",
        "    sqr  += y.pow(2).item()\n",
        "mean/10000,sqr/10000"
      ],
      "execution_count": 0,
      "outputs": [
        {
          "output_type": "execute_result",
          "data": {
            "text/plain": [
              "(0.013266791818584533, 0.9896199178691623)"
            ]
          },
          "metadata": {
            "tags": []
          },
          "execution_count": 0
        }
      ]
    },
    {
      "cell_type": "markdown",
      "metadata": {
        "id": "_oq4uTFquch6",
        "colab_type": "text"
      },
      "source": [
        "Then we sum 512 of those things that have a mean of zero, and a mean of squares of 1, so we get something that has a mean of 0, and mean of square of 512, hence `math.sqrt(512)` being our magic number. If we scale the weights of the matrix `a` and divide them by this `math.sqrt(512)`, it will give us a `y` of scale 1, and repeating the product has many times as we want won't overflow or vanish."
      ]
    },
    {
      "cell_type": "markdown",
      "metadata": {
        "id": "i-v36AFjuch6",
        "colab_type": "text"
      },
      "source": [
        "### Adding ReLU in the mix"
      ]
    },
    {
      "cell_type": "markdown",
      "metadata": {
        "id": "-9EBKISluch7",
        "colab_type": "text"
      },
      "source": [
        "We can reproduce the previous experiment with a ReLU, to see that this time, the mean shifts and the standard deviation becomes 0.5. This time the magic number will be `math.sqrt(2/512)` to properly scale the weights of the matrix."
      ]
    },
    {
      "cell_type": "code",
      "metadata": {
        "id": "pNSCIWbbuch9",
        "colab_type": "code",
        "outputId": "793e67e2-ad32-4e6f-8178-e140597955ae",
        "colab": {}
      },
      "source": [
        "mean,sqr = 0.,0.\n",
        "for i in range(10000):\n",
        "    x = torch.randn(1)\n",
        "    a = torch.randn(1)\n",
        "    y = a*x\n",
        "    y = 0 if y < 0 else y.item()\n",
        "    mean += y\n",
        "    sqr  += y ** 2\n",
        "mean/10000,sqr/10000"
      ],
      "execution_count": 0,
      "outputs": [
        {
          "output_type": "execute_result",
          "data": {
            "text/plain": [
              "(0.313308998029304, 0.4902977162997965)"
            ]
          },
          "metadata": {
            "tags": []
          },
          "execution_count": 0
        }
      ]
    },
    {
      "cell_type": "markdown",
      "metadata": {
        "id": "6uML1X7iuciD",
        "colab_type": "text"
      },
      "source": [
        "We can double check by running the experiment on the whole matrix product."
      ]
    },
    {
      "cell_type": "code",
      "metadata": {
        "id": "hx7Z0QJzuciE",
        "colab_type": "code",
        "outputId": "4a79cf4a-6bf1-4a91-fa14-4328391e01d8",
        "colab": {}
      },
      "source": [
        "mean,sqr = 0.,0.\n",
        "for i in range(100):\n",
        "    x = torch.randn(512)\n",
        "    a = torch.randn(512, 512)\n",
        "    y = a @ x\n",
        "    y = y.clamp(min=0)\n",
        "    mean += y.mean().item()\n",
        "    sqr  += y.pow(2).mean().item()\n",
        "mean/100,sqr/100"
      ],
      "execution_count": 0,
      "outputs": [
        {
          "output_type": "execute_result",
          "data": {
            "text/plain": [
              "(9.005213165283203, 257.3701454162598)"
            ]
          },
          "metadata": {
            "tags": []
          },
          "execution_count": 0
        }
      ]
    },
    {
      "cell_type": "markdown",
      "metadata": {
        "id": "KCk_wPZbuciI",
        "colab_type": "text"
      },
      "source": [
        "Or that scaling the coefficient with the magic number gives us a scale of 1."
      ]
    },
    {
      "cell_type": "code",
      "metadata": {
        "id": "xtA6Uo2zuciJ",
        "colab_type": "code",
        "outputId": "7b0f5a41-8563-4711-f9c2-8ed0270e2e95",
        "colab": {}
      },
      "source": [
        "mean,sqr = 0.,0.\n",
        "for i in range(100):\n",
        "    x = torch.randn(512)\n",
        "    a = torch.randn(512, 512) * math.sqrt(2/512)\n",
        "    y = a @ x\n",
        "    y = y.clamp(min=0)\n",
        "    mean += y.mean().item()\n",
        "    sqr  += y.pow(2).mean().item()\n",
        "mean/100,sqr/100"
      ],
      "execution_count": 0,
      "outputs": [
        {
          "output_type": "execute_result",
          "data": {
            "text/plain": [
              "(0.5643280637264252, 1.0055165421962737)"
            ]
          },
          "metadata": {
            "tags": []
          },
          "execution_count": 0
        }
      ]
    },
    {
      "cell_type": "markdown",
      "metadata": {
        "id": "0nsAsramuciN",
        "colab_type": "text"
      },
      "source": [
        "The math behind is a tiny bit more complex, and you can find everything in the [Kaiming](https://arxiv.org/abs/1502.01852) and the [Xavier](http://proceedings.mlr.press/v9/glorot10a.html) paper but this gives the intuition behing those results."
      ]
    }
  ]
}