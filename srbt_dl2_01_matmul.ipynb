{
  "nbformat": 4,
  "nbformat_minor": 0,
  "metadata": {
    "kernelspec": {
      "name": "python3",
      "display_name": "Python 3"
    },
    "colab": {
      "name": "srbt_dl2_01_matmul.ipynb",
      "version": "0.3.2",
      "provenance": [],
      "collapsed_sections": [
        "mEJ-tAMVrfl3",
        "b9b5HAjirfmd",
        "Ml-0pXbxrfm2",
        "AHyipV28rfnG",
        "l2EO_W19rfni",
        "Xo-OzHNfrfon",
        "sBuyU-purfoy"
      ],
      "include_colab_link": true
    },
    "accelerator": "GPU"
  },
  "cells": [
    {
      "cell_type": "markdown",
      "metadata": {
        "id": "view-in-github",
        "colab_type": "text"
      },
      "source": [
        "<a href=\"https://colab.research.google.com/github/duchaba2/fastai_san_ramon_biztech/blob/master/srbt_dl2_01_matmul.ipynb\" target=\"_parent\"><img src=\"https://colab.research.google.com/assets/colab-badge.svg\" alt=\"Open In Colab\"/></a>"
      ]
    },
    {
      "cell_type": "markdown",
      "metadata": {
        "id": "oYVDBlL9Z-jf",
        "colab_type": "text"
      },
      "source": [
        "# 1. Setup (Required)"
      ]
    },
    {
      "cell_type": "code",
      "metadata": {
        "id": "UImWYEGiaFUS",
        "colab_type": "code",
        "colab": {}
      },
      "source": [
        "# do the magic Jupyter commands to make display and import easier to manage.\n",
        "%reload_ext autoreload\n",
        "%autoreload 2\n",
        "%matplotlib inline"
      ],
      "execution_count": 0,
      "outputs": []
    },
    {
      "cell_type": "code",
      "metadata": {
        "id": "HVSafYWkaFZk",
        "colab_type": "code",
        "colab": {}
      },
      "source": [
        "#import pytorch and AI\n",
        "!pip install --upgrade git+https://github.com/fastai/fastai.git"
      ],
      "execution_count": 0,
      "outputs": []
    },
    {
      "cell_type": "code",
      "metadata": {
        "id": "YFH6hRu5aGNV",
        "colab_type": "code",
        "colab": {}
      },
      "source": [
        "# connect to your google drive\n",
        "from google.colab import drive\n",
        "drive.mount('/content/drive')"
      ],
      "execution_count": 0,
      "outputs": []
    },
    {
      "cell_type": "code",
      "metadata": {
        "id": "BitZ8_W5aGdk",
        "colab_type": "code",
        "colab": {}
      },
      "source": [
        "#(Optional) double check your import pytorch and fast.ai version\n",
        "import fastai\n",
        "import fastai.utils\n",
        "fastai.utils.show_install()"
      ],
      "execution_count": 0,
      "outputs": []
    },
    {
      "cell_type": "markdown",
      "metadata": {
        "id": "COsfXxkkrfko",
        "colab_type": "text"
      },
      "source": [
        "#2. Fast AI Notebook, Matrix multiplication from foundations"
      ]
    },
    {
      "cell_type": "markdown",
      "metadata": {
        "id": "JGprVDd5rfkp",
        "colab_type": "text"
      },
      "source": [
        "The *foundations* we'll assume throughout this course are:\n",
        "\n",
        "- Python\n",
        "- Python modules (non-DL)\n",
        "- pytorch indexable tensor, and tensor creation (including RNGs - random number generators)\n",
        "- fastai.datasets"
      ]
    },
    {
      "cell_type": "markdown",
      "metadata": {
        "id": "JjpwWomYrfkq",
        "colab_type": "text"
      },
      "source": [
        "## Check imports"
      ]
    },
    {
      "cell_type": "code",
      "metadata": {
        "id": "axaR0u5Wrfkr",
        "colab_type": "code",
        "colab": {}
      },
      "source": [
        "%load_ext autoreload\n",
        "%autoreload 2\n",
        "\n",
        "%matplotlib inline"
      ],
      "execution_count": 0,
      "outputs": []
    },
    {
      "cell_type": "markdown",
      "metadata": {
        "id": "JEAvbz6Crfkv",
        "colab_type": "text"
      },
      "source": [
        "[Jump_to lesson 8 video](https://course.fast.ai/videos/?lesson=8&t=1850)"
      ]
    },
    {
      "cell_type": "code",
      "metadata": {
        "id": "0BkAIsZXrfkw",
        "colab_type": "code",
        "colab": {}
      },
      "source": [
        "#export\n",
        "from exp.nb_00 import *\n",
        "import operator\n",
        "\n",
        "def test(a,b,cmp,cname=None):\n",
        "    if cname is None: cname=cmp.__name__\n",
        "    assert cmp(a,b),f\"{cname}:\\n{a}\\n{b}\"\n",
        "\n",
        "def test_eq(a,b): test(a,b,operator.eq,'==')"
      ],
      "execution_count": 0,
      "outputs": []
    },
    {
      "cell_type": "code",
      "metadata": {
        "id": "r6NDENPSrfk1",
        "colab_type": "code",
        "colab": {}
      },
      "source": [
        "test_eq(TEST,'test')"
      ],
      "execution_count": 0,
      "outputs": []
    },
    {
      "cell_type": "code",
      "metadata": {
        "id": "ZZY67lgsrfk7",
        "colab_type": "code",
        "colab": {}
      },
      "source": [
        "# To run tests in console:\n",
        "# ! python run_notebook.py 01_matmul.ipynb"
      ],
      "execution_count": 0,
      "outputs": []
    },
    {
      "cell_type": "markdown",
      "metadata": {
        "id": "KDApHQdgrflF",
        "colab_type": "text"
      },
      "source": [
        "## Get data"
      ]
    },
    {
      "cell_type": "markdown",
      "metadata": {
        "id": "_vqd2GKCrflG",
        "colab_type": "text"
      },
      "source": [
        "[Jump_to lesson 8 video](https://course.fast.ai/videos/?lesson=8&t=2159)"
      ]
    },
    {
      "cell_type": "code",
      "metadata": {
        "id": "0dovv7iirflH",
        "colab_type": "code",
        "colab": {}
      },
      "source": [
        "#export\n",
        "from pathlib import Path\n",
        "from IPython.core.debugger import set_trace\n",
        "from fastai import datasets\n",
        "import pickle, gzip, math, torch, matplotlib as mpl\n",
        "import matplotlib.pyplot as plt\n",
        "from torch import tensor\n",
        "\n",
        "MNIST_URL='http://deeplearning.net/data/mnist/mnist.pkl'"
      ],
      "execution_count": 0,
      "outputs": []
    },
    {
      "cell_type": "code",
      "metadata": {
        "id": "2z879gtJrflK",
        "colab_type": "code",
        "outputId": "0a6c5b53-b73e-4fde-c4ab-e386141bdc33",
        "colab": {}
      },
      "source": [
        "path = datasets.download_data(MNIST_URL, ext='.gz'); path"
      ],
      "execution_count": 0,
      "outputs": [
        {
          "output_type": "execute_result",
          "data": {
            "text/plain": [
              "PosixPath('/home/ubuntu/.fastai/data/mnist.pkl.gz')"
            ]
          },
          "metadata": {
            "tags": []
          },
          "execution_count": 0
        }
      ]
    },
    {
      "cell_type": "code",
      "metadata": {
        "id": "y4UjqDNnrflV",
        "colab_type": "code",
        "colab": {}
      },
      "source": [
        "with gzip.open(path, 'rb') as f:\n",
        "    ((x_train, y_train), (x_valid, y_valid), _) = pickle.load(f, encoding='latin-1')"
      ],
      "execution_count": 0,
      "outputs": []
    },
    {
      "cell_type": "code",
      "metadata": {
        "id": "janaZHzArflX",
        "colab_type": "code",
        "outputId": "41943240-dc51-4da3-81bb-97e85b31157d",
        "colab": {}
      },
      "source": [
        "x_train,y_train,x_valid,y_valid = map(tensor, (x_train,y_train,x_valid,y_valid))\n",
        "n,c = x_train.shape\n",
        "x_train, x_train.shape, y_train, y_train.shape, y_train.min(), y_train.max()"
      ],
      "execution_count": 0,
      "outputs": [
        {
          "output_type": "execute_result",
          "data": {
            "text/plain": [
              "(tensor([[0., 0., 0.,  ..., 0., 0., 0.],\n",
              "         [0., 0., 0.,  ..., 0., 0., 0.],\n",
              "         [0., 0., 0.,  ..., 0., 0., 0.],\n",
              "         ...,\n",
              "         [0., 0., 0.,  ..., 0., 0., 0.],\n",
              "         [0., 0., 0.,  ..., 0., 0., 0.],\n",
              "         [0., 0., 0.,  ..., 0., 0., 0.]]),\n",
              " torch.Size([50000, 784]),\n",
              " tensor([5, 0, 4,  ..., 8, 4, 8]),\n",
              " torch.Size([50000]),\n",
              " tensor(0),\n",
              " tensor(9))"
            ]
          },
          "metadata": {
            "tags": []
          },
          "execution_count": 0
        }
      ]
    },
    {
      "cell_type": "code",
      "metadata": {
        "id": "OfdZk06lrflb",
        "colab_type": "code",
        "colab": {}
      },
      "source": [
        "assert n==y_train.shape[0]==50000\n",
        "test_eq(c,28*28)\n",
        "test_eq(y_train.min(),0)\n",
        "test_eq(y_train.max(),9)"
      ],
      "execution_count": 0,
      "outputs": []
    },
    {
      "cell_type": "code",
      "metadata": {
        "id": "Cw9QsjtNrflf",
        "colab_type": "code",
        "colab": {}
      },
      "source": [
        "mpl.rcParams['image.cmap'] = 'gray'"
      ],
      "execution_count": 0,
      "outputs": []
    },
    {
      "cell_type": "code",
      "metadata": {
        "id": "DEwJhGQlrfli",
        "colab_type": "code",
        "colab": {}
      },
      "source": [
        "img = x_train[0]"
      ],
      "execution_count": 0,
      "outputs": []
    },
    {
      "cell_type": "code",
      "metadata": {
        "id": "fg8ne1-Lrfll",
        "colab_type": "code",
        "outputId": "ad599a80-3f7d-4b1b-f791-a8bf281cad10",
        "colab": {}
      },
      "source": [
        "img.view(28,28).type()"
      ],
      "execution_count": 0,
      "outputs": [
        {
          "output_type": "execute_result",
          "data": {
            "text/plain": [
              "'torch.FloatTensor'"
            ]
          },
          "metadata": {
            "tags": []
          },
          "execution_count": 0
        }
      ]
    },
    {
      "cell_type": "code",
      "metadata": {
        "id": "VKk44Pw_rflp",
        "colab_type": "code",
        "outputId": "bf3a67de-fdc9-4f83-a139-623c87237adc",
        "colab": {}
      },
      "source": [
        "plt.imshow(img.view((28,28)));"
      ],
      "execution_count": 0,
      "outputs": [
        {
          "output_type": "display_data",
          "data": {
            "image/png": "[encoded data removed]",
            "text/plain": [
              "<Figure size 432x288 with 1 Axes>"
            ]
          },
          "metadata": {
            "tags": [],
            "needs_background": "light"
          }
        }
      ]
    },
    {
      "cell_type": "markdown",
      "metadata": {
        "id": "OWcjuL8mrflt",
        "colab_type": "text"
      },
      "source": [
        "## Initial python model"
      ]
    },
    {
      "cell_type": "markdown",
      "metadata": {
        "id": "PMG965rwrflt",
        "colab_type": "text"
      },
      "source": [
        " [Jump_to lesson 8 video](https://course.fast.ai/videos/?lesson=8&t=2342)"
      ]
    },
    {
      "cell_type": "markdown",
      "metadata": {
        "id": "p3UL0ZCCrflv",
        "colab_type": "text"
      },
      "source": [
        " [Jump_to lesson 8 video](https://course.fast.ai/videos/?lesson=8&t=2342)"
      ]
    },
    {
      "cell_type": "code",
      "metadata": {
        "id": "dEe-ThYGrflx",
        "colab_type": "code",
        "colab": {}
      },
      "source": [
        "weights = torch.randn(784,10)"
      ],
      "execution_count": 0,
      "outputs": []
    },
    {
      "cell_type": "code",
      "metadata": {
        "id": "sZz6qiQBrfl0",
        "colab_type": "code",
        "colab": {}
      },
      "source": [
        "bias = torch.zeros(10)"
      ],
      "execution_count": 0,
      "outputs": []
    },
    {
      "cell_type": "markdown",
      "metadata": {
        "id": "mEJ-tAMVrfl3",
        "colab_type": "text"
      },
      "source": [
        "#### Matrix multiplication"
      ]
    },
    {
      "cell_type": "code",
      "metadata": {
        "id": "FlWleRmjrfl4",
        "colab_type": "code",
        "colab": {}
      },
      "source": [
        "def matmul(a,b):\n",
        "    ar,ac = a.shape # n_rows * n_cols\n",
        "    br,bc = b.shape\n",
        "    assert ac==br\n",
        "    c = torch.zeros(ar, bc)\n",
        "    for i in range(ar):\n",
        "        for j in range(bc):\n",
        "            for k in range(ac): # or br\n",
        "                c[i,j] += a[i,k] * b[k,j]\n",
        "    return c"
      ],
      "execution_count": 0,
      "outputs": []
    },
    {
      "cell_type": "code",
      "metadata": {
        "id": "CQ5uqdWArfmB",
        "colab_type": "code",
        "colab": {}
      },
      "source": [
        "m1 = x_valid[:5]\n",
        "m2 = weights"
      ],
      "execution_count": 0,
      "outputs": []
    },
    {
      "cell_type": "code",
      "metadata": {
        "id": "Ibak4WJIrfmI",
        "colab_type": "code",
        "outputId": "9fd75384-9c75-4ae8-9166-6ffe832c4287",
        "colab": {}
      },
      "source": [
        "m1.shape,m2.shape"
      ],
      "execution_count": 0,
      "outputs": [
        {
          "output_type": "execute_result",
          "data": {
            "text/plain": [
              "(torch.Size([5, 784]), torch.Size([784, 10]))"
            ]
          },
          "metadata": {
            "tags": []
          },
          "execution_count": 0
        }
      ]
    },
    {
      "cell_type": "code",
      "metadata": {
        "id": "f9P7g1yZrfmN",
        "colab_type": "code",
        "outputId": "c49d06d3-d821-4bcc-af8a-94e6e686342a",
        "colab": {}
      },
      "source": [
        "%time t1=matmul(m1, m2)"
      ],
      "execution_count": 0,
      "outputs": [
        {
          "output_type": "stream",
          "text": [
            "CPU times: user 818 ms, sys: 0 ns, total: 818 ms\n",
            "Wall time: 835 ms\n"
          ],
          "name": "stdout"
        }
      ]
    },
    {
      "cell_type": "code",
      "metadata": {
        "id": "2UVVkYnGrfmS",
        "colab_type": "code",
        "outputId": "c35a6be2-1e7f-43a1-ec03-239f8e724b1a",
        "colab": {}
      },
      "source": [
        "t1.shape"
      ],
      "execution_count": 0,
      "outputs": [
        {
          "output_type": "execute_result",
          "data": {
            "text/plain": [
              "torch.Size([5, 10])"
            ]
          },
          "metadata": {
            "tags": []
          },
          "execution_count": 0
        }
      ]
    },
    {
      "cell_type": "markdown",
      "metadata": {
        "id": "HJAVds-YrfmW",
        "colab_type": "text"
      },
      "source": [
        "This is kinda slow - what if we could speed it up by 50,000 times? Let's try!"
      ]
    },
    {
      "cell_type": "code",
      "metadata": {
        "id": "oRYB8-EdrfmX",
        "colab_type": "code",
        "outputId": "85a48ee7-5de5-48c3-ee20-8ad4fe714219",
        "colab": {}
      },
      "source": [
        "len(x_train)"
      ],
      "execution_count": 0,
      "outputs": [
        {
          "output_type": "execute_result",
          "data": {
            "text/plain": [
              "50000"
            ]
          },
          "metadata": {
            "tags": []
          },
          "execution_count": 0
        }
      ]
    },
    {
      "cell_type": "markdown",
      "metadata": {
        "id": "b9b5HAjirfmd",
        "colab_type": "text"
      },
      "source": [
        "#### Elementwise ops"
      ]
    },
    {
      "cell_type": "markdown",
      "metadata": {
        "id": "g_TzobIWrfmd",
        "colab_type": "text"
      },
      "source": [
        "Operators (+,-,\\*,/,>,<,==) are usually element-wise.\n",
        "\n",
        "Examples of element-wise operations:"
      ]
    },
    {
      "cell_type": "markdown",
      "metadata": {
        "id": "jwwd1XYDrfme",
        "colab_type": "text"
      },
      "source": [
        " [Jump_to lesson 8 video](https://course.fast.ai/videos/?lesson=8&t=2682)"
      ]
    },
    {
      "cell_type": "code",
      "metadata": {
        "id": "UbCnoE-zrfmf",
        "colab_type": "code",
        "outputId": "4db745af-4ee5-4680-d83e-4d8bf9a620bb",
        "colab": {}
      },
      "source": [
        "a = tensor([10., 6, -4])\n",
        "b = tensor([2., 8, 7])\n",
        "a,b"
      ],
      "execution_count": 0,
      "outputs": [
        {
          "output_type": "execute_result",
          "data": {
            "text/plain": [
              "(tensor([10.,  6., -4.]), tensor([2., 8., 7.]))"
            ]
          },
          "metadata": {
            "tags": []
          },
          "execution_count": 0
        }
      ]
    },
    {
      "cell_type": "code",
      "metadata": {
        "id": "eKPwJZoXrfmj",
        "colab_type": "code",
        "outputId": "b8207f0c-d577-43d7-dde0-33e08380d9a0",
        "colab": {}
      },
      "source": [
        "a + b"
      ],
      "execution_count": 0,
      "outputs": [
        {
          "output_type": "execute_result",
          "data": {
            "text/plain": [
              "tensor([12., 14.,  3.])"
            ]
          },
          "metadata": {
            "tags": []
          },
          "execution_count": 0
        }
      ]
    },
    {
      "cell_type": "code",
      "metadata": {
        "id": "zxHfKPS7rfmn",
        "colab_type": "code",
        "outputId": "950739a8-2fb6-4935-9ec2-9a898d289203",
        "colab": {}
      },
      "source": [
        "(a < b).float().mean()"
      ],
      "execution_count": 0,
      "outputs": [
        {
          "output_type": "execute_result",
          "data": {
            "text/plain": [
              "tensor(0.6667)"
            ]
          },
          "metadata": {
            "tags": []
          },
          "execution_count": 0
        }
      ]
    },
    {
      "cell_type": "code",
      "metadata": {
        "id": "XlLWnKhErfmr",
        "colab_type": "code",
        "outputId": "375e3777-68f8-47b7-bf2f-b6f001c2d02d",
        "colab": {}
      },
      "source": [
        "m = tensor([[1., 2, 3], [4,5,6], [7,8,9]]); m"
      ],
      "execution_count": 0,
      "outputs": [
        {
          "output_type": "execute_result",
          "data": {
            "text/plain": [
              "tensor([[1., 2., 3.],\n",
              "        [4., 5., 6.],\n",
              "        [7., 8., 9.]])"
            ]
          },
          "metadata": {
            "tags": []
          },
          "execution_count": 0
        }
      ]
    },
    {
      "cell_type": "markdown",
      "metadata": {
        "id": "uAYLlROJrfmv",
        "colab_type": "text"
      },
      "source": [
        "Frobenius norm:\n",
        "\n",
        "$$\\| A \\|_F = \\left( \\sum_{i,j=1}^n | a_{ij} |^2 \\right)^{1/2}$$\n",
        "\n",
        "*Hint*: you don't normally need to write equations in LaTeX yourself, instead, you can click 'edit' in Wikipedia and copy the LaTeX from there (which is what I did for the above equation). Or on arxiv.org, click \"Download: Other formats\" in the top right, then \"Download source\"; rename the downloaded file to end in `.tgz` if it doesn't already, and you should find the source there, including the equations to copy and paste."
      ]
    },
    {
      "cell_type": "code",
      "metadata": {
        "id": "UXY3aLJqrfmw",
        "colab_type": "code",
        "outputId": "3f149a8c-1d8b-4357-af62-1f25eaebabc9",
        "colab": {}
      },
      "source": [
        "(m*m).sum().sqrt()"
      ],
      "execution_count": 0,
      "outputs": [
        {
          "output_type": "execute_result",
          "data": {
            "text/plain": [
              "tensor(16.8819)"
            ]
          },
          "metadata": {
            "tags": []
          },
          "execution_count": 0
        }
      ]
    },
    {
      "cell_type": "markdown",
      "metadata": {
        "id": "Ml-0pXbxrfm2",
        "colab_type": "text"
      },
      "source": [
        "#### Elementwise matmul"
      ]
    },
    {
      "cell_type": "code",
      "metadata": {
        "id": "qlo4lOA2rfm3",
        "colab_type": "code",
        "colab": {}
      },
      "source": [
        "def matmul(a,b):\n",
        "    ar,ac = a.shape\n",
        "    br,bc = b.shape\n",
        "    assert ac==br\n",
        "    c = torch.zeros(ar, bc)\n",
        "    for i in range(ar):\n",
        "        for j in range(bc):\n",
        "            # Any trailing \",:\" can be removed\n",
        "            c[i,j] = (a[i,:] * b[:,j]).sum()\n",
        "    return c"
      ],
      "execution_count": 0,
      "outputs": []
    },
    {
      "cell_type": "code",
      "metadata": {
        "id": "NwRaYmcvrfm5",
        "colab_type": "code",
        "outputId": "196341d3-c6f1-409b-c541-fb930c32ad49",
        "colab": {}
      },
      "source": [
        "%timeit -n 10 _=matmul(m1, m2)"
      ],
      "execution_count": 0,
      "outputs": [
        {
          "output_type": "stream",
          "text": [
            "1.39 ms ± 70 µs per loop (mean ± std. dev. of 7 runs, 10 loops each)\n"
          ],
          "name": "stdout"
        }
      ]
    },
    {
      "cell_type": "code",
      "metadata": {
        "id": "J05-XK02rfm8",
        "colab_type": "code",
        "outputId": "987f173c-bfbc-4f25-b3e0-9e5cdef43edd",
        "colab": {}
      },
      "source": [
        "890.1/5"
      ],
      "execution_count": 0,
      "outputs": [
        {
          "output_type": "execute_result",
          "data": {
            "text/plain": [
              "178.02"
            ]
          },
          "metadata": {
            "tags": []
          },
          "execution_count": 0
        }
      ]
    },
    {
      "cell_type": "code",
      "metadata": {
        "id": "mC8bRHtRrfm_",
        "colab_type": "code",
        "colab": {}
      },
      "source": [
        "#export\n",
        "def near(a,b): return torch.allclose(a, b, rtol=1e-3, atol=1e-5)\n",
        "def test_near(a,b): test(a,b,near)"
      ],
      "execution_count": 0,
      "outputs": []
    },
    {
      "cell_type": "code",
      "metadata": {
        "id": "cuOt5K72rfnB",
        "colab_type": "code",
        "colab": {}
      },
      "source": [
        "test_near(t1,matmul(m1, m2))"
      ],
      "execution_count": 0,
      "outputs": []
    },
    {
      "cell_type": "markdown",
      "metadata": {
        "id": "tufpQ8fArfnE",
        "colab_type": "text"
      },
      "source": [
        "### Broadcasting"
      ]
    },
    {
      "cell_type": "markdown",
      "metadata": {
        "id": "YSV2mAHjrfnF",
        "colab_type": "text"
      },
      "source": [
        "The term **broadcasting** describes how arrays with different shapes are treated during arithmetic operations.  The term broadcasting was first used by Numpy.\n",
        "\n",
        "From the [Numpy Documentation](https://docs.scipy.org/doc/numpy-1.10.0/user/basics.broadcasting.html):\n",
        "\n",
        "    The term broadcasting describes how numpy treats arrays with \n",
        "    different shapes during arithmetic operations. Subject to certain \n",
        "    constraints, the smaller array is “broadcast” across the larger \n",
        "    array so that they have compatible shapes. Broadcasting provides a \n",
        "    means of vectorizing array operations so that looping occurs in C\n",
        "    instead of Python. It does this without making needless copies of \n",
        "    data and usually leads to efficient algorithm implementations.\n",
        "    \n",
        "In addition to the efficiency of broadcasting, it allows developers to write less code, which typically leads to fewer errors.\n",
        "\n",
        "*This section was adapted from [Chapter 4](http://nbviewer.jupyter.org/github/fastai/numerical-linear-algebra/blob/master/nbs/4.%20Compressed%20Sensing%20of%20CT%20Scans%20with%20Robust%20Regression.ipynb#4.-Compressed-Sensing-of-CT-Scans-with-Robust-Regression) of the fast.ai [Computational Linear Algebra](https://github.com/fastai/numerical-linear-algebra) course.*"
      ]
    },
    {
      "cell_type": "markdown",
      "metadata": {
        "id": "_DlmdMFPrfnG",
        "colab_type": "text"
      },
      "source": [
        "[Jump_to lesson 8 video](https://course.fast.ai/videos/?lesson=8&t=3110)"
      ]
    },
    {
      "cell_type": "markdown",
      "metadata": {
        "id": "AHyipV28rfnG",
        "colab_type": "text"
      },
      "source": [
        "#### Broadcasting with a scalar"
      ]
    },
    {
      "cell_type": "code",
      "metadata": {
        "id": "aCCofq0urfnH",
        "colab_type": "code",
        "outputId": "503a5780-ef5a-4518-bcf6-e2a2f1cffff0",
        "colab": {}
      },
      "source": [
        "a"
      ],
      "execution_count": 0,
      "outputs": [
        {
          "output_type": "execute_result",
          "data": {
            "text/plain": [
              "tensor([10.,  6., -4.])"
            ]
          },
          "metadata": {
            "tags": []
          },
          "execution_count": 0
        }
      ]
    },
    {
      "cell_type": "code",
      "metadata": {
        "id": "r3KCjDJGrfnJ",
        "colab_type": "code",
        "outputId": "9b203a2f-b054-4fad-a5c2-7e1f169daa35",
        "colab": {}
      },
      "source": [
        "a > 0"
      ],
      "execution_count": 0,
      "outputs": [
        {
          "output_type": "execute_result",
          "data": {
            "text/plain": [
              "tensor([1, 1, 0], dtype=torch.uint8)"
            ]
          },
          "metadata": {
            "tags": []
          },
          "execution_count": 0
        }
      ]
    },
    {
      "cell_type": "markdown",
      "metadata": {
        "id": "WJwHKLRUrfnN",
        "colab_type": "text"
      },
      "source": [
        "How are we able to do a > 0?  0 is being **broadcast** to have the same dimensions as a.\n",
        "\n",
        "For instance you can normalize our dataset by subtracting the mean (a scalar) from the entire data set (a matrix) and dividing by the standard deviation (another scalar), using broadcasting.\n",
        "\n",
        "Other examples of broadcasting with a scalar:"
      ]
    },
    {
      "cell_type": "code",
      "metadata": {
        "id": "W4eSVjaKrfnO",
        "colab_type": "code",
        "outputId": "9b4bd490-94c2-496f-8bfa-da2140989d58",
        "colab": {}
      },
      "source": [
        "a + 1"
      ],
      "execution_count": 0,
      "outputs": [
        {
          "output_type": "execute_result",
          "data": {
            "text/plain": [
              "tensor([11.,  7., -3.])"
            ]
          },
          "metadata": {
            "tags": []
          },
          "execution_count": 0
        }
      ]
    },
    {
      "cell_type": "code",
      "metadata": {
        "id": "QekWK6horfnU",
        "colab_type": "code",
        "outputId": "208b5ca7-2d4b-4ba4-c38b-4917ff637e29",
        "colab": {}
      },
      "source": [
        "m"
      ],
      "execution_count": 0,
      "outputs": [
        {
          "output_type": "execute_result",
          "data": {
            "text/plain": [
              "tensor([[1., 2., 3.],\n",
              "        [4., 5., 6.],\n",
              "        [7., 8., 9.]])"
            ]
          },
          "metadata": {
            "tags": []
          },
          "execution_count": 0
        }
      ]
    },
    {
      "cell_type": "code",
      "metadata": {
        "id": "6S7Tz5dnrfnd",
        "colab_type": "code",
        "outputId": "4bc3d643-a399-47bc-9fed-1622b10621ac",
        "colab": {}
      },
      "source": [
        "2*m"
      ],
      "execution_count": 0,
      "outputs": [
        {
          "output_type": "execute_result",
          "data": {
            "text/plain": [
              "tensor([[ 2.,  4.,  6.],\n",
              "        [ 8., 10., 12.],\n",
              "        [14., 16., 18.]])"
            ]
          },
          "metadata": {
            "tags": []
          },
          "execution_count": 0
        }
      ]
    },
    {
      "cell_type": "markdown",
      "metadata": {
        "id": "l2EO_W19rfni",
        "colab_type": "text"
      },
      "source": [
        "#### Broadcasting a vector to a matrix"
      ]
    },
    {
      "cell_type": "markdown",
      "metadata": {
        "id": "twJlejk-rfnk",
        "colab_type": "text"
      },
      "source": [
        "We can also broadcast a vector to a matrix:"
      ]
    },
    {
      "cell_type": "code",
      "metadata": {
        "id": "vz5GC_CBrfnl",
        "colab_type": "code",
        "outputId": "40613b9b-22bb-4fbb-ab70-bc78592efd8c",
        "colab": {}
      },
      "source": [
        "c = tensor([10.,20,30]); c"
      ],
      "execution_count": 0,
      "outputs": [
        {
          "output_type": "execute_result",
          "data": {
            "text/plain": [
              "tensor([10., 20., 30.])"
            ]
          },
          "metadata": {
            "tags": []
          },
          "execution_count": 0
        }
      ]
    },
    {
      "cell_type": "code",
      "metadata": {
        "id": "-sV1FLCKrfnp",
        "colab_type": "code",
        "outputId": "ad0718fb-9e13-4825-ce14-5eccc5d25b4b",
        "colab": {}
      },
      "source": [
        "m"
      ],
      "execution_count": 0,
      "outputs": [
        {
          "output_type": "execute_result",
          "data": {
            "text/plain": [
              "tensor([[1., 2., 3.],\n",
              "        [4., 5., 6.],\n",
              "        [7., 8., 9.]])"
            ]
          },
          "metadata": {
            "tags": []
          },
          "execution_count": 0
        }
      ]
    },
    {
      "cell_type": "code",
      "metadata": {
        "id": "HCRaSjDlrfnt",
        "colab_type": "code",
        "outputId": "e47caca6-32b4-4fd2-a58c-b6682e131575",
        "colab": {}
      },
      "source": [
        "m.shape,c.shape"
      ],
      "execution_count": 0,
      "outputs": [
        {
          "output_type": "execute_result",
          "data": {
            "text/plain": [
              "(torch.Size([3, 3]), torch.Size([3]))"
            ]
          },
          "metadata": {
            "tags": []
          },
          "execution_count": 0
        }
      ]
    },
    {
      "cell_type": "code",
      "metadata": {
        "id": "9z1MF4yhrfnx",
        "colab_type": "code",
        "outputId": "4e962c40-aec6-4dff-97e0-c1a46bcd3083",
        "colab": {}
      },
      "source": [
        "m + c"
      ],
      "execution_count": 0,
      "outputs": [
        {
          "output_type": "execute_result",
          "data": {
            "text/plain": [
              "tensor([[11., 22., 33.],\n",
              "        [14., 25., 36.],\n",
              "        [17., 28., 39.]])"
            ]
          },
          "metadata": {
            "tags": []
          },
          "execution_count": 0
        }
      ]
    },
    {
      "cell_type": "code",
      "metadata": {
        "id": "X-OVPRy_rfn1",
        "colab_type": "code",
        "outputId": "b7e6564e-611c-455e-829b-df03173f3679",
        "colab": {}
      },
      "source": [
        "c + m"
      ],
      "execution_count": 0,
      "outputs": [
        {
          "output_type": "execute_result",
          "data": {
            "text/plain": [
              "tensor([[11., 22., 33.],\n",
              "        [14., 25., 36.],\n",
              "        [17., 28., 39.]])"
            ]
          },
          "metadata": {
            "tags": []
          },
          "execution_count": 0
        }
      ]
    },
    {
      "cell_type": "markdown",
      "metadata": {
        "id": "biE3tRBarfn7",
        "colab_type": "text"
      },
      "source": [
        "We don't really copy the rows, but it looks as if we did. In fact, the rows are given a *stride* of 0."
      ]
    },
    {
      "cell_type": "code",
      "metadata": {
        "id": "TS5OXXxCrfn7",
        "colab_type": "code",
        "colab": {}
      },
      "source": [
        "t = c.expand_as(m)"
      ],
      "execution_count": 0,
      "outputs": []
    },
    {
      "cell_type": "code",
      "metadata": {
        "id": "QcxDuxdjrfn-",
        "colab_type": "code",
        "outputId": "73da6ab2-1be5-4227-a50f-117de27fee9e",
        "colab": {}
      },
      "source": [
        "t"
      ],
      "execution_count": 0,
      "outputs": [
        {
          "output_type": "execute_result",
          "data": {
            "text/plain": [
              "tensor([[10., 20., 30.],\n",
              "        [10., 20., 30.],\n",
              "        [10., 20., 30.]])"
            ]
          },
          "metadata": {
            "tags": []
          },
          "execution_count": 0
        }
      ]
    },
    {
      "cell_type": "code",
      "metadata": {
        "id": "IhhsVKBnrfoB",
        "colab_type": "code",
        "outputId": "4981fd40-2f05-46eb-e15a-6ce1082b8b04",
        "colab": {}
      },
      "source": [
        "m + t"
      ],
      "execution_count": 0,
      "outputs": [
        {
          "output_type": "execute_result",
          "data": {
            "text/plain": [
              "tensor([[11., 22., 33.],\n",
              "        [14., 25., 36.],\n",
              "        [17., 28., 39.]])"
            ]
          },
          "metadata": {
            "tags": []
          },
          "execution_count": 0
        }
      ]
    },
    {
      "cell_type": "code",
      "metadata": {
        "id": "eBixCZ8wrfoE",
        "colab_type": "code",
        "outputId": "1c82211b-2e4d-4442-8b5e-88053a0e5d1f",
        "colab": {}
      },
      "source": [
        "t.storage()"
      ],
      "execution_count": 0,
      "outputs": [
        {
          "output_type": "execute_result",
          "data": {
            "text/plain": [
              " 10.0\n",
              " 20.0\n",
              " 30.0\n",
              "[torch.FloatStorage of size 3]"
            ]
          },
          "metadata": {
            "tags": []
          },
          "execution_count": 0
        }
      ]
    },
    {
      "cell_type": "code",
      "metadata": {
        "id": "j3fvPHaGrfoK",
        "colab_type": "code",
        "outputId": "b205adee-a972-4f65-845e-a6f393ee5818",
        "colab": {}
      },
      "source": [
        "t.stride(), t.shape"
      ],
      "execution_count": 0,
      "outputs": [
        {
          "output_type": "execute_result",
          "data": {
            "text/plain": [
              "((0, 1), torch.Size([3, 3]))"
            ]
          },
          "metadata": {
            "tags": []
          },
          "execution_count": 0
        }
      ]
    },
    {
      "cell_type": "markdown",
      "metadata": {
        "id": "BeHw_4XgrfoN",
        "colab_type": "text"
      },
      "source": [
        "You can index with the special value [None] or use `unsqueeze()` to convert a 1-dimensional array into a 2-dimensional array (although one of those dimensions has value 1)."
      ]
    },
    {
      "cell_type": "code",
      "metadata": {
        "id": "YJtvYgrkrfoO",
        "colab_type": "code",
        "outputId": "5d9b3246-d8d8-40c9-cc96-f141325fa0a6",
        "colab": {}
      },
      "source": [
        "c.unsqueeze(0)"
      ],
      "execution_count": 0,
      "outputs": [
        {
          "output_type": "execute_result",
          "data": {
            "text/plain": [
              "tensor([[10., 20., 30.]])"
            ]
          },
          "metadata": {
            "tags": []
          },
          "execution_count": 0
        }
      ]
    },
    {
      "cell_type": "code",
      "metadata": {
        "id": "85cnidq8rfoS",
        "colab_type": "code",
        "outputId": "b57e497e-e207-40a7-e2c3-ec53d96e4e53",
        "colab": {}
      },
      "source": [
        "c.unsqueeze(1)"
      ],
      "execution_count": 0,
      "outputs": [
        {
          "output_type": "execute_result",
          "data": {
            "text/plain": [
              "tensor([[10.],\n",
              "        [20.],\n",
              "        [30.]])"
            ]
          },
          "metadata": {
            "tags": []
          },
          "execution_count": 0
        }
      ]
    },
    {
      "cell_type": "code",
      "metadata": {
        "id": "pW4LRnZ8rfoU",
        "colab_type": "code",
        "outputId": "f019fd97-c1a8-459b-c6b5-3a18259f2417",
        "colab": {}
      },
      "source": [
        "m"
      ],
      "execution_count": 0,
      "outputs": [
        {
          "output_type": "execute_result",
          "data": {
            "text/plain": [
              "tensor([[1., 2., 3.],\n",
              "        [4., 5., 6.],\n",
              "        [7., 8., 9.]])"
            ]
          },
          "metadata": {
            "tags": []
          },
          "execution_count": 0
        }
      ]
    },
    {
      "cell_type": "code",
      "metadata": {
        "id": "EIt3juezrfoX",
        "colab_type": "code",
        "outputId": "b94bd30b-5e62-46b3-8cc0-3792da92e8ff",
        "colab": {}
      },
      "source": [
        "c.shape, c.unsqueeze(0).shape,c.unsqueeze(1).shape"
      ],
      "execution_count": 0,
      "outputs": [
        {
          "output_type": "execute_result",
          "data": {
            "text/plain": [
              "(torch.Size([3]), torch.Size([1, 3]), torch.Size([3, 1]))"
            ]
          },
          "metadata": {
            "tags": []
          },
          "execution_count": 0
        }
      ]
    },
    {
      "cell_type": "code",
      "metadata": {
        "id": "kEY5sIefrfoZ",
        "colab_type": "code",
        "outputId": "f5063816-8197-4a16-f469-0699440c801f",
        "colab": {}
      },
      "source": [
        "c.shape, c[None].shape,c[:,None].shape"
      ],
      "execution_count": 0,
      "outputs": [
        {
          "output_type": "execute_result",
          "data": {
            "text/plain": [
              "(torch.Size([3]), torch.Size([1, 3]), torch.Size([3, 1]))"
            ]
          },
          "metadata": {
            "tags": []
          },
          "execution_count": 0
        }
      ]
    },
    {
      "cell_type": "markdown",
      "metadata": {
        "id": "jzsGN2sGrfob",
        "colab_type": "text"
      },
      "source": [
        "You can always skip trailling ':'s. And '...' means '*all preceding dimensions*'"
      ]
    },
    {
      "cell_type": "code",
      "metadata": {
        "id": "u-XhzYFGrfoc",
        "colab_type": "code",
        "outputId": "5377a543-33b9-428c-a46c-a399cbfc54ba",
        "colab": {}
      },
      "source": [
        "c[None].shape,c[...,None].shape"
      ],
      "execution_count": 0,
      "outputs": [
        {
          "output_type": "execute_result",
          "data": {
            "text/plain": [
              "(torch.Size([1, 3]), torch.Size([3, 1]))"
            ]
          },
          "metadata": {
            "tags": []
          },
          "execution_count": 0
        }
      ]
    },
    {
      "cell_type": "code",
      "metadata": {
        "id": "FlCN7LO4rfoe",
        "colab_type": "code",
        "outputId": "1cf2c169-5520-4a14-b9cc-27b7ce5b9009",
        "colab": {}
      },
      "source": [
        "c[:,None].expand_as(m)"
      ],
      "execution_count": 0,
      "outputs": [
        {
          "output_type": "execute_result",
          "data": {
            "text/plain": [
              "tensor([[10., 10., 10.],\n",
              "        [20., 20., 20.],\n",
              "        [30., 30., 30.]])"
            ]
          },
          "metadata": {
            "tags": []
          },
          "execution_count": 0
        }
      ]
    },
    {
      "cell_type": "code",
      "metadata": {
        "id": "TF8vphkUrfog",
        "colab_type": "code",
        "outputId": "16f67eba-385d-4f8a-aa02-511bd345eae4",
        "colab": {}
      },
      "source": [
        "m + c[:,None]"
      ],
      "execution_count": 0,
      "outputs": [
        {
          "output_type": "execute_result",
          "data": {
            "text/plain": [
              "tensor([[11., 12., 13.],\n",
              "        [24., 25., 26.],\n",
              "        [37., 38., 39.]])"
            ]
          },
          "metadata": {
            "tags": []
          },
          "execution_count": 0
        }
      ]
    },
    {
      "cell_type": "code",
      "metadata": {
        "id": "WRuNyvcsrfok",
        "colab_type": "code",
        "outputId": "5c2af1a9-f4f4-4d77-d637-c411bdf57314",
        "colab": {}
      },
      "source": [
        "c[:,None]"
      ],
      "execution_count": 0,
      "outputs": [
        {
          "output_type": "execute_result",
          "data": {
            "text/plain": [
              "tensor([[10.],\n",
              "        [20.],\n",
              "        [30.]])"
            ]
          },
          "metadata": {
            "tags": []
          },
          "execution_count": 0
        }
      ]
    },
    {
      "cell_type": "markdown",
      "metadata": {
        "id": "Xo-OzHNfrfon",
        "colab_type": "text"
      },
      "source": [
        "#### Matmul with broadcasting"
      ]
    },
    {
      "cell_type": "code",
      "metadata": {
        "id": "Fa2xvug5rfoq",
        "colab_type": "code",
        "colab": {}
      },
      "source": [
        "def matmul(a,b):\n",
        "    ar,ac = a.shape\n",
        "    br,bc = b.shape\n",
        "    assert ac==br\n",
        "    c = torch.zeros(ar, bc)\n",
        "    for i in range(ar):\n",
        "#       c[i,j] = (a[i,:]          * b[:,j]).sum() # previous\n",
        "        c[i]   = (a[i  ].unsqueeze(-1) * b).sum(dim=0)\n",
        "    return c"
      ],
      "execution_count": 0,
      "outputs": []
    },
    {
      "cell_type": "code",
      "metadata": {
        "id": "LNCmQM83rfos",
        "colab_type": "code",
        "outputId": "90b2b68f-2ea9-4dc8-b005-a451a89eb0e7",
        "colab": {}
      },
      "source": [
        "%timeit -n 10 _=matmul(m1, m2)"
      ],
      "execution_count": 0,
      "outputs": [
        {
          "output_type": "stream",
          "text": [
            "254 µs ± 11.9 µs per loop (mean ± std. dev. of 7 runs, 10 loops each)\n"
          ],
          "name": "stdout"
        }
      ]
    },
    {
      "cell_type": "code",
      "metadata": {
        "id": "DTOEKCWFrfou",
        "colab_type": "code",
        "outputId": "3278f570-cc3f-44b8-de11-c8967491427b",
        "colab": {}
      },
      "source": [
        "885000/277"
      ],
      "execution_count": 0,
      "outputs": [
        {
          "output_type": "execute_result",
          "data": {
            "text/plain": [
              "3194.945848375451"
            ]
          },
          "metadata": {
            "tags": []
          },
          "execution_count": 0
        }
      ]
    },
    {
      "cell_type": "code",
      "metadata": {
        "id": "XCaM2l7Qrfox",
        "colab_type": "code",
        "colab": {}
      },
      "source": [
        "test_near(t1, matmul(m1, m2))"
      ],
      "execution_count": 0,
      "outputs": []
    },
    {
      "cell_type": "markdown",
      "metadata": {
        "id": "sBuyU-purfoy",
        "colab_type": "text"
      },
      "source": [
        "#### Broadcasting Rules"
      ]
    },
    {
      "cell_type": "code",
      "metadata": {
        "id": "4holOyMZrfoy",
        "colab_type": "code",
        "outputId": "6a2abd24-3c6c-4993-a2cb-59a5d8c8ac31",
        "colab": {}
      },
      "source": [
        "c[None,:]"
      ],
      "execution_count": 0,
      "outputs": [
        {
          "output_type": "execute_result",
          "data": {
            "text/plain": [
              "tensor([[10., 20., 30.]])"
            ]
          },
          "metadata": {
            "tags": []
          },
          "execution_count": 0
        }
      ]
    },
    {
      "cell_type": "code",
      "metadata": {
        "id": "yZQV_sukrfo0",
        "colab_type": "code",
        "outputId": "e479c8ef-3c00-4e7c-9964-2b1c04db806d",
        "colab": {}
      },
      "source": [
        "c[None,:].shape"
      ],
      "execution_count": 0,
      "outputs": [
        {
          "output_type": "execute_result",
          "data": {
            "text/plain": [
              "torch.Size([1, 3])"
            ]
          },
          "metadata": {
            "tags": []
          },
          "execution_count": 0
        }
      ]
    },
    {
      "cell_type": "code",
      "metadata": {
        "id": "YcX_oW9Arfo5",
        "colab_type": "code",
        "outputId": "f983cb05-eaaa-41f1-b950-34eb1d19ba20",
        "colab": {}
      },
      "source": [
        "c[:,None]"
      ],
      "execution_count": 0,
      "outputs": [
        {
          "output_type": "execute_result",
          "data": {
            "text/plain": [
              "tensor([[10.],\n",
              "        [20.],\n",
              "        [30.]])"
            ]
          },
          "metadata": {
            "tags": []
          },
          "execution_count": 0
        }
      ]
    },
    {
      "cell_type": "code",
      "metadata": {
        "id": "yKXQyD8lrfo-",
        "colab_type": "code",
        "outputId": "cd4345e4-50cf-4912-c190-530986d519a0",
        "colab": {}
      },
      "source": [
        "c[:,None].shape"
      ],
      "execution_count": 0,
      "outputs": [
        {
          "output_type": "execute_result",
          "data": {
            "text/plain": [
              "torch.Size([3, 1])"
            ]
          },
          "metadata": {
            "tags": []
          },
          "execution_count": 0
        }
      ]
    },
    {
      "cell_type": "code",
      "metadata": {
        "id": "BJNYX2l8rfpC",
        "colab_type": "code",
        "outputId": "3c9a6d1a-9dae-42b4-bb5f-2a31240157bb",
        "colab": {}
      },
      "source": [
        "c[None,:] * c[:,None]"
      ],
      "execution_count": 0,
      "outputs": [
        {
          "output_type": "execute_result",
          "data": {
            "text/plain": [
              "tensor([[100., 200., 300.],\n",
              "        [200., 400., 600.],\n",
              "        [300., 600., 900.]])"
            ]
          },
          "metadata": {
            "tags": []
          },
          "execution_count": 0
        }
      ]
    },
    {
      "cell_type": "code",
      "metadata": {
        "id": "LdWGTZMmrfpE",
        "colab_type": "code",
        "outputId": "18740632-6136-4f02-f7b7-57e7227bc270",
        "colab": {}
      },
      "source": [
        "c[None] > c[:,None]"
      ],
      "execution_count": 0,
      "outputs": [
        {
          "output_type": "execute_result",
          "data": {
            "text/plain": [
              "tensor([[0, 1, 1],\n",
              "        [0, 0, 1],\n",
              "        [0, 0, 0]], dtype=torch.uint8)"
            ]
          },
          "metadata": {
            "tags": []
          },
          "execution_count": 0
        }
      ]
    },
    {
      "cell_type": "markdown",
      "metadata": {
        "id": "WPA0llbLrfpM",
        "colab_type": "text"
      },
      "source": [
        "When operating on two arrays/tensors, Numpy/PyTorch compares their shapes element-wise. It starts with the **trailing dimensions**, and works its way forward. Two dimensions are **compatible** when\n",
        "\n",
        "- they are equal, or\n",
        "- one of them is 1, in which case that dimension is broadcasted to make it the same size\n",
        "\n",
        "Arrays do not need to have the same number of dimensions. For example, if you have a `256*256*3` array of RGB values, and you want to scale each color in the image by a different value, you can multiply the image by a one-dimensional array with 3 values. Lining up the sizes of the trailing axes of these arrays according to the broadcast rules, shows that they are compatible:\n",
        "\n",
        "    Image  (3d array): 256 x 256 x 3\n",
        "    Scale  (1d array):             3\n",
        "    Result (3d array): 256 x 256 x 3\n",
        "\n",
        "The [numpy documentation](https://docs.scipy.org/doc/numpy-1.13.0/user/basics.broadcasting.html#general-broadcasting-rules) includes several examples of what dimensions can and can not be broadcast together."
      ]
    },
    {
      "cell_type": "markdown",
      "metadata": {
        "id": "jWefGfvmrfpR",
        "colab_type": "text"
      },
      "source": [
        "### Einstein summation"
      ]
    },
    {
      "cell_type": "markdown",
      "metadata": {
        "id": "bIrnMXMmrfpR",
        "colab_type": "text"
      },
      "source": [
        "Einstein summation (`einsum`) is a compact representation for combining products and sums in a general way. From the numpy docs:\n",
        "\n",
        "\"The subscripts string is a comma-separated list of subscript labels, where each label refers to a dimension of the corresponding operand. Whenever a label is repeated it is summed, so `np.einsum('i,i', a, b)` is equivalent to `np.inner(a,b)`. If a label appears only once, it is not summed, so `np.einsum('i', a)` produces a view of a with no changes.\""
      ]
    },
    {
      "cell_type": "markdown",
      "metadata": {
        "id": "2ePPgBzkrfpS",
        "colab_type": "text"
      },
      "source": [
        "[Jump_to lesson 8 video](https://course.fast.ai/videos/?lesson=8&t=4280)"
      ]
    },
    {
      "cell_type": "code",
      "metadata": {
        "id": "4xcygj79rfpU",
        "colab_type": "code",
        "colab": {}
      },
      "source": [
        "# c[i,j] += a[i,k] * b[k,j]\n",
        "# c[i,j] = (a[i,:] * b[:,j]).sum()\n",
        "def matmul(a,b): return torch.einsum('ik,kj->ij', a, b)"
      ],
      "execution_count": 0,
      "outputs": []
    },
    {
      "cell_type": "code",
      "metadata": {
        "id": "ucIbNdsorfpZ",
        "colab_type": "code",
        "outputId": "da4bd8da-d3ce-40a7-f1ae-58ccbb079b2d",
        "colab": {}
      },
      "source": [
        "%timeit -n 10 _=matmul(m1, m2)"
      ],
      "execution_count": 0,
      "outputs": [
        {
          "output_type": "stream",
          "text": [
            "57.2 µs ± 15.3 µs per loop (mean ± std. dev. of 7 runs, 10 loops each)\n"
          ],
          "name": "stdout"
        }
      ]
    },
    {
      "cell_type": "code",
      "metadata": {
        "id": "bjf-Z0NVrfpf",
        "colab_type": "code",
        "outputId": "9785366e-9204-43d4-dea1-b794552b0667",
        "colab": {}
      },
      "source": [
        "885000/55"
      ],
      "execution_count": 0,
      "outputs": [
        {
          "output_type": "execute_result",
          "data": {
            "text/plain": [
              "16090.90909090909"
            ]
          },
          "metadata": {
            "tags": []
          },
          "execution_count": 0
        }
      ]
    },
    {
      "cell_type": "code",
      "metadata": {
        "id": "Rw71S1_prfph",
        "colab_type": "code",
        "colab": {}
      },
      "source": [
        "test_near(t1, matmul(m1, m2))"
      ],
      "execution_count": 0,
      "outputs": []
    },
    {
      "cell_type": "markdown",
      "metadata": {
        "id": "eUI1NRm4rfpk",
        "colab_type": "text"
      },
      "source": [
        "### pytorch op"
      ]
    },
    {
      "cell_type": "markdown",
      "metadata": {
        "id": "Rov9FeVqrfpk",
        "colab_type": "text"
      },
      "source": [
        "We can use pytorch's function or operator directly for matrix multiplication."
      ]
    },
    {
      "cell_type": "markdown",
      "metadata": {
        "id": "4DI03Ao_rfpl",
        "colab_type": "text"
      },
      "source": [
        "[Jump_to lesson 8 video](https://course.fast.ai/videos/?lesson=8&t=4702)"
      ]
    },
    {
      "cell_type": "code",
      "metadata": {
        "id": "kf1lf02_rfpl",
        "colab_type": "code",
        "outputId": "13b99932-a2ff-4378-a089-f919f9194f58",
        "colab": {}
      },
      "source": [
        "%timeit -n 10 t2 = m1.matmul(m2)"
      ],
      "execution_count": 0,
      "outputs": [
        {
          "output_type": "stream",
          "text": [
            "18.2 µs ± 6.1 µs per loop (mean ± std. dev. of 7 runs, 10 loops each)\n"
          ],
          "name": "stdout"
        }
      ]
    },
    {
      "cell_type": "code",
      "metadata": {
        "id": "OgR23NDJrfpn",
        "colab_type": "code",
        "outputId": "0133f762-1613-4cd9-a58e-bf0f1e6fd32a",
        "colab": {}
      },
      "source": [
        "# time comparison vs pure python:\n",
        "885000/18"
      ],
      "execution_count": 0,
      "outputs": [
        {
          "output_type": "execute_result",
          "data": {
            "text/plain": [
              "49166.666666666664"
            ]
          },
          "metadata": {
            "tags": []
          },
          "execution_count": 0
        }
      ]
    },
    {
      "cell_type": "code",
      "metadata": {
        "id": "OiXyiav1rfpp",
        "colab_type": "code",
        "colab": {}
      },
      "source": [
        "t2 = m1@m2"
      ],
      "execution_count": 0,
      "outputs": []
    },
    {
      "cell_type": "code",
      "metadata": {
        "id": "tmVeInjHrfpt",
        "colab_type": "code",
        "colab": {}
      },
      "source": [
        "test_near(t1, t2)"
      ],
      "execution_count": 0,
      "outputs": []
    },
    {
      "cell_type": "code",
      "metadata": {
        "id": "myWwfhttrfpu",
        "colab_type": "code",
        "outputId": "63b3390f-a4b6-4aa3-c216-044d54b038d8",
        "colab": {}
      },
      "source": [
        "m1.shape,m2.shape"
      ],
      "execution_count": 0,
      "outputs": [
        {
          "output_type": "execute_result",
          "data": {
            "text/plain": [
              "(torch.Size([5, 784]), torch.Size([784, 10]))"
            ]
          },
          "metadata": {
            "tags": []
          },
          "execution_count": 0
        }
      ]
    },
    {
      "cell_type": "markdown",
      "metadata": {
        "id": "QQOMV-_jrfpw",
        "colab_type": "text"
      },
      "source": [
        "## Export"
      ]
    },
    {
      "cell_type": "code",
      "metadata": {
        "id": "S1_o4_ejrfpw",
        "colab_type": "code",
        "outputId": "0785b727-2840-49f7-fa95-e163e414c456",
        "colab": {}
      },
      "source": [
        "!python notebook2script.py 01_matmul.ipynb"
      ],
      "execution_count": 0,
      "outputs": [
        {
          "output_type": "stream",
          "text": [
            "Converted 01_matmul.ipynb to nb_01.py\r\n"
          ],
          "name": "stdout"
        }
      ]
    },
    {
      "cell_type": "code",
      "metadata": {
        "id": "aPoNZsPgrfpz",
        "colab_type": "code",
        "colab": {}
      },
      "source": [
        ""
      ],
      "execution_count": 0,
      "outputs": []
    }
  ]
}